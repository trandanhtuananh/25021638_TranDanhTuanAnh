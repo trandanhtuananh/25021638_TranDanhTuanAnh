{
 "cells": [
  {
   "cell_type": "code",
   "execution_count": 1,
   "id": "9710b2fd-dd44-4552-97c4-ca6f86464114",
   "metadata": {},
   "outputs": [
    {
     "name": "stdout",
     "output_type": "stream",
     "text": [
      "2\n"
     ]
    }
   ],
   "source": [
    "#W1A1\n",
    "# Gán giá trị 7 cho biến a\n",
    "a = 7\n",
    "\n",
    "# Gán giá trị 5 cho biến b\n",
    "b = 5\n",
    "\n",
    "# Thực hiện phép trừ: lấy giá trị của a (7) trừ đi giá trị của b (5)\n",
    "# Kết quả của phép trừ là 2, được gán cho biến c\n",
    "c = a - b\n",
    "\n",
    "# In ra giá trị của biến c\n",
    "# Vì c = 2, nên màn hình sẽ hiển thị: 2\n",
    "print(c)"
   ]
  },
  {
   "cell_type": "code",
   "execution_count": 2,
   "id": "713cef8a-72bd-404a-93de-d047ac5a3e48",
   "metadata": {},
   "outputs": [
    {
     "name": "stdout",
     "output_type": "stream",
     "text": [
      "Thành phố:  Hà Nội  - Năm:  2025\n"
     ]
    }
   ],
   "source": [
    "#W1A2\n",
    "# Gán giá trị \"Hà Nội\" (chuỗi) cho biến city\n",
    "city = \"Hà Nội\"\n",
    "\n",
    "# Gán giá trị 2025 (số nguyên) cho biến year\n",
    "year = 2025\n",
    "\n",
    "# Hàm print() dùng để in ra màn hình.\n",
    "# Các đối số trong print được cách nhau bằng một khoảng trắng mặc định.\n",
    "# Ở đây ta in lần lượt:\n",
    "#   1. Chuỗi \"Thành phố: \"\n",
    "#   2. Giá trị của biến city (tức là \"Hà Nội\")\n",
    "#   3. Chuỗi \" - Năm: \"\n",
    "#   4. Giá trị của biến year (tức là 2025)\n",
    "# Kết quả hiển thị sẽ là:\n",
    "# Thành phố:  Hà Nội  - Năm:  2025\n",
    "print(\"Thành phố: \", city, \" - Năm: \", year)\n"
   ]
  },
  {
   "cell_type": "code",
   "execution_count": 3,
   "id": "21040403-a76c-43b9-a662-1e82f8f46d23",
   "metadata": {},
   "outputs": [
    {
     "name": "stdout",
     "output_type": "stream",
     "text": [
      "10\n"
     ]
    }
   ],
   "source": [
    "#W1A3\n",
    "# Gán giá trị 4 cho biến n\n",
    "# Đây là số cuối cùng trong dãy cần tính tổng (1 + 2 + 3 + 4)\n",
    "n = 4\n",
    "\n",
    "# Tạo biến t để lưu kết quả tổng, khởi tạo bằng 0\n",
    "t = 0\n",
    "\n",
    "# Vòng lặp for chạy từ 1 đến n (bao gồm cả n)\n",
    "# range(1, n+1) sẽ tạo ra dãy: 1, 2, 3, 4\n",
    "for i in range(1, n+1):\n",
    "    # Mỗi lần lặp, cộng giá trị i vào biến t\n",
    "    # Lượt 1: t = 0 + 1 = 1\n",
    "    # Lượt 2: t = 1 + 2 = 3\n",
    "    # Lượt 3: t = 3 + 3 = 6\n",
    "    # Lượt 4: t = 6 + 4 = 10\n",
    "    t += i\n",
    "\n",
    "# In ra tổng cuối cùng sau vòng lặp\n",
    "# Kết quả sẽ là 10\n",
    "print(t)\n"
   ]
  },
  {
   "cell_type": "code",
   "execution_count": 4,
   "id": "60d76e29-01c9-4bf4-88b3-3db50da6739e",
   "metadata": {},
   "outputs": [
    {
     "name": "stdout",
     "output_type": "stream",
     "text": [
      "1 là số lẻ\n",
      "2 là số chẵn\n",
      "3 là số lẻ\n",
      "4 là số chẵn\n"
     ]
    }
   ],
   "source": [
    "#W1A4\n",
    "# Tạo một danh sách gồm 4 số nguyên\n",
    "numbers = [1, 2, 3, 4]\n",
    "\n",
    "# Dùng vòng lặp for để duyệt qua từng phần tử trong danh sách\n",
    "for x in numbers:\n",
    "    # Toán tử % (modulo) trả về phần dư của phép chia\n",
    "    # Nếu x chia hết cho 2 (x % 2 == 0) thì x là số chẵn\n",
    "    if x % 2 == 0:\n",
    "        # In ra thông báo số chẵn\n",
    "        print(x, \"là số chẵn\")\n",
    "    else:\n",
    "        # Ngược lại, nếu không chia hết cho 2 thì x là số lẻ\n",
    "        print(x, \"là số lẻ\")\n"
   ]
  },
  {
   "cell_type": "code",
   "execution_count": 5,
   "id": "73e5e1d6-02fe-4462-8b44-56669532bf0e",
   "metadata": {},
   "outputs": [
    {
     "name": "stdout",
     "output_type": "stream",
     "text": [
      "Số phần tử trong danh sách là: 4\n"
     ]
    }
   ],
   "source": [
    "#W1A5\n",
    "# Tạo một danh sách gồm 4 chuỗi (động vật)\n",
    "animals = [\"cat\", \"dog\", \"cat\", \"bird\"]\n",
    "\n",
    "# Biến count dùng để đếm số phần tử, khởi tạo ban đầu là 0\n",
    "count = 0\n",
    "\n",
    "# Vòng lặp for duyệt qua từng phần tử a trong danh sách animals\n",
    "for a in animals:\n",
    "    # Mỗi lần lặp, biến count tăng thêm 1\n",
    "    # Sau 4 lần lặp (ứng với 4 phần tử), count sẽ bằng 4\n",
    "    count += 1\n",
    "\n",
    "# In ra kết quả cuối cùng\n",
    "# Vì danh sách có 4 phần tử nên kết quả là 4\n",
    "print(\"Số phần tử trong danh sách là:\", count)\n"
   ]
  },
  {
   "cell_type": "code",
   "execution_count": 10,
   "id": "c911a617-d9b8-41ec-a171-3fbb2504bd32",
   "metadata": {},
   "outputs": [
    {
     "name": "stdout",
     "output_type": "stream",
     "text": [
      "=== AI Prediction System ===\n",
      "1) Sentiment analysis\n",
      "2) Weather forecast\n",
      "3) Exit\n",
      "Please choose an option:\n"
     ]
    }
   ],
   "source": [
    "#W1A6\n",
    "# Simple menu - Chương trình hiển thị một menu đơn giản\n",
    "\n",
    "# Dòng này in tiêu đề của hệ thống\n",
    "print(\"=== AI Prediction System ===\")\n",
    "\n",
    "# In ra các lựa chọn của người dùng\n",
    "print(\"1) Sentiment analysis\")   # Lựa chọn 1: phân tích cảm xúc\n",
    "print(\"2) Weather forecast\")     # Lựa chọn 2: dự báo thời tiết\n",
    "print(\"3) Exit\")                 # Lựa chọn 3: thoát chương trình\n",
    "\n",
    "# In ra thông báo yêu cầu người dùng chọn\n",
    "print(\"Please choose an option:\")\n"
   ]
  },
  {
   "cell_type": "code",
   "execution_count": 6,
   "id": "0664cf35-0b77-49c9-b18c-2dc12f877505",
   "metadata": {},
   "outputs": [
    {
     "name": "stdin",
     "output_type": "stream",
     "text": [
      "Nhập số:  4.5\n"
     ]
    },
    {
     "name": "stdout",
     "output_type": "stream",
     "text": [
      "Lỗi: Vui lòng nhập một số nguyên hợp lệ.\n"
     ]
    }
   ],
   "source": [
    "#W1A7\n",
    "# Chương trình kiểm tra chẵn / lẻ (phiên bản tương tác)\n",
    "# Giải thích lỗi ban đầu và cách sửa:\n",
    "# - input() trả về chuỗi (str) => cần chuyển về int trước khi dùng phép toán %.\n",
    "# - Dấu so sánh phải là '==' (không phải '=') trong if num % 2 == 0.\n",
    "# - Cú pháp if/else cần dấu ':' ở cuối và thân lệnh phải thụt lề đúng.\n",
    "# - Nên bắt lỗi ValueError nếu người dùng nhập không phải số nguyên.\n",
    "\n",
    "try:\n",
    "    # input() nhận chuỗi từ người dùng; int(...) chuyển chuỗi thành số nguyên\n",
    "    num = int(input(\"Nhập số: \"))\n",
    "\n",
    "    # Nếu phần dư khi chia cho 2 bằng 0 thì là số chẵn\n",
    "    if num % 2 == 0:\n",
    "        print(\"Số chẵn\")\n",
    "    else:\n",
    "        print(\"Số lẻ\")\n",
    "\n",
    "except ValueError:\n",
    "    # Nếu int(...) không thể chuyển chuỗi thành số nguyên thì vào đây\n",
    "    print(\"Lỗi: Vui lòng nhập một số nguyên hợp lệ.\")\n"
   ]
  },
  {
   "cell_type": "code",
   "execution_count": 7,
   "id": "dcec5eba-a814-4d24-a27a-dcb030778fba",
   "metadata": {},
   "outputs": [
    {
     "name": "stdout",
     "output_type": "stream",
     "text": [
      "AI đang học lần 1\n",
      "AI đang học lần 2\n",
      "AI đang học lần 3\n",
      "Huấn luyện xong!\n"
     ]
    }
   ],
   "source": [
    "#W1A8\n",
    "# Chương trình minh họa vòng lặp for trong Python\n",
    "\n",
    "# Vòng lặp for i in range(3):\n",
    "# - range(3) tạo ra dãy số [0, 1, 2]\n",
    "# - Nghĩa là biến i sẽ lần lượt nhận giá trị 0, rồi 1, rồi 2\n",
    "# - Trong mỗi lần lặp, lệnh print sẽ in ra \"AI đang học lần\" kèm với i + 1\n",
    "#   (vì i bắt đầu từ 0 nên cộng thêm 1 để hiển thị lần 1, 2, 3 cho đúng)\n",
    "\n",
    "for i in range(3):\n",
    "    print(\"AI đang học lần\", i + 1)\n",
    "\n",
    "# Sau khi vòng lặp kết thúc (chạy xong 3 lần), chương trình mới chạy tiếp\n",
    "# Lúc này sẽ in ra dòng \"Huấn luyện xong!\"\n",
    "print(\"Huấn luyện xong!\")\n"
   ]
  },
  {
   "cell_type": "code",
   "execution_count": 8,
   "id": "f068dcdd-cf04-4372-9af2-5f3b1bc99e14",
   "metadata": {},
   "outputs": [
    {
     "name": "stdout",
     "output_type": "stream",
     "text": [
      "Dự đoán con vật: cat\n",
      "Dự đoán con vật: dog\n",
      "Dự đoán con vật: fish\n"
     ]
    }
   ],
   "source": [
    "#W1A9\n",
    "# Chương trình duyệt qua một danh sách và in ra từng phần tử\n",
    "\n",
    "# Vòng lặp for x in [\"cat\", \"dog\", \"fish\"]:\n",
    "# - Danh sách có 3 phần tử: \"cat\", \"dog\", \"fish\"\n",
    "# - Biến x sẽ lần lượt nhận các giá trị \"cat\", \"dog\", rồi \"fish\"\n",
    "\n",
    "for x in [\"cat\", \"dog\", \"fish\"]:\n",
    "    # Mỗi lần lặp, in ra chuỗi \"Dự đoán con vật:\" kèm giá trị của x\n",
    "    print(\"Dự đoán con vật:\", x)\n",
    "\n",
    "# Sau khi vòng lặp kết thúc, chương trình cũng kết thúc\n"
   ]
  },
  {
   "cell_type": "code",
   "execution_count": 9,
   "id": "86695d10-778d-4712-8979-2a2b4594d3e6",
   "metadata": {},
   "outputs": [
    {
     "name": "stdout",
     "output_type": "stream",
     "text": [
      "=== AI Prediction System ===\n",
      "1) Sentiment analysis\n",
      "2) Weather forecast\n",
      "3) Exit\n",
      "Please choose an option:\n"
     ]
    }
   ],
   "source": [
    "#W1A10\n",
    "# Simple menu\n",
    "\n",
    "# In Python 3, hàm print phải có dấu ngoặc () bao quanh nội dung cần in.\n",
    "# Ở code gốc có lỗi:\n",
    "# - `print \"...\"` → thiếu ngoặc\n",
    "# - Một số dòng thừa hoặc thiếu dấu ngoặc đóng )\n",
    "# - Dùng lẫn ' và \" không đúng chỗ\n",
    "\n",
    "# Sửa lại đúng cú pháp như sau:\n",
    "\n",
    "print(\"=== AI Prediction System ===\")\n",
    "print(\"1) Sentiment analysis\")\n",
    "print(\"2) Weather forecast\")\n",
    "print(\"3) Exit\")\n",
    "print(\"Please choose an option:\")\n"
   ]
  }
 ],
 "metadata": {
  "kernelspec": {
   "display_name": "Python 3 (ipykernel)",
   "language": "python",
   "name": "python3"
  },
  "language_info": {
   "codemirror_mode": {
    "name": "ipython",
    "version": 3
   },
   "file_extension": ".py",
   "mimetype": "text/x-python",
   "name": "python",
   "nbconvert_exporter": "python",
   "pygments_lexer": "ipython3",
   "version": "3.13.7"
  }
 },
 "nbformat": 4,
 "nbformat_minor": 5
}
