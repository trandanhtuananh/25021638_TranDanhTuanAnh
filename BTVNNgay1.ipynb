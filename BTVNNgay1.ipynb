{
 "cells": [
  {
   "cell_type": "code",
   "execution_count": 2,
   "id": "d6d8bb3b-17f3-4a05-afe9-2d2570bb17eb",
   "metadata": {},
   "outputs": [
    {
     "name": "stdout",
     "output_type": "stream",
     "text": [
      "Hello World!\n"
     ]
    }
   ],
   "source": [
    "#W2A1\n",
    "print(\"Hello World!\")"
   ]
  },
  {
   "cell_type": "code",
   "execution_count": 5,
   "id": "47926e78-2733-4f76-b37b-b128a847b069",
   "metadata": {},
   "outputs": [
    {
     "name": "stdin",
     "output_type": "stream",
     "text": [
      "Nhap ten:  Tuan Anh\n"
     ]
    },
    {
     "name": "stdout",
     "output_type": "stream",
     "text": [
      "Xin chao Tuan Anh\n"
     ]
    }
   ],
   "source": [
    "#W2A2\n",
    "ten = input(\"Nhap ten: \")\n",
    "print(\"Xin chao\" + \" \" +  str(ten))"
   ]
  },
  {
   "cell_type": "code",
   "execution_count": 16,
   "id": "f01671d7-7481-460d-8233-b1fcca4d02a7",
   "metadata": {},
   "outputs": [
    {
     "name": "stdin",
     "output_type": "stream",
     "text": [
      "Nhap a, b:  5 2\n"
     ]
    },
    {
     "name": "stdout",
     "output_type": "stream",
     "text": [
      "7\n",
      "3\n",
      "10\n",
      "2\n",
      "1\n",
      "2.50\n"
     ]
    }
   ],
   "source": [
    "#W2A3\n",
    "a, b = map(int, input(\"Nhap a, b: \").split())\n",
    "print(str(a + b) + \"\\n\" + str(a - b) + \"\\n\" + str(a*b) + \"\\n\" + str(a//b) + \"\\n\" + str(a%b) + \"\\n\" + format((a/b), \".2f\"))"
   ]
  },
  {
   "cell_type": "code",
   "execution_count": 17,
   "id": "b2c80106-8e4a-405f-926f-3b9a0760b174",
   "metadata": {},
   "outputs": [
    {
     "name": "stdin",
     "output_type": "stream",
     "text": [
      "Nhap a1, b1, c1, a2, b2, a3:  1 2 3 4 5 6\n"
     ]
    },
    {
     "name": "stdout",
     "output_type": "stream",
     "text": [
      "4.2\n"
     ]
    }
   ],
   "source": [
    "#W2A4\n",
    "a1, b1, c1, a2, b2, a3 = map(int, input(\"Nhap a1, b1, c1, a2, b2, a3: \").split())\n",
    "tb = ((a1+b1+c1)+(a2+b2)*2 + a3*3)/10\n",
    "print(format(tb, \".1f\"))"
   ]
  },
  {
   "cell_type": "code",
   "execution_count": 18,
   "id": "d017cc5d-95f3-4b41-bef3-b9fbf73fd3ee",
   "metadata": {},
   "outputs": [
    {
     "name": "stdin",
     "output_type": "stream",
     "text": [
      "Nhap a, b:  2 3\n"
     ]
    },
    {
     "name": "stdout",
     "output_type": "stream",
     "text": [
      "8\n"
     ]
    }
   ],
   "source": [
    "#W2A5\n",
    "a, b = map(int, input(\"Nhap a, b: \").split())\n",
    "ans = a**b\n",
    "print(ans)"
   ]
  },
  {
   "cell_type": "code",
   "execution_count": 20,
   "id": "761b780d-bbca-4894-8326-fcb34a7bb152",
   "metadata": {},
   "outputs": [
    {
     "name": "stdin",
     "output_type": "stream",
     "text": [
      "Nhap chu cai:  a\n"
     ]
    },
    {
     "name": "stdout",
     "output_type": "stream",
     "text": [
      "97\n",
      "A\n"
     ]
    }
   ],
   "source": [
    "#W2A6\n",
    "chu = input(\"Nhap chu cai: \")\n",
    "print(ord(chu))\n",
    "viethoa = ord(chu) - 32\n",
    "inhoa = chr(viethoa)\n",
    "print(str(inhoa))\n"
   ]
  },
  {
   "cell_type": "code",
   "execution_count": 24,
   "id": "cd026f20-1341-49f0-8068-5f9b2aaf8c07",
   "metadata": {},
   "outputs": [
    {
     "name": "stdout",
     "output_type": "stream",
     "text": [
      "512\n",
      "512\n"
     ]
    }
   ],
   "source": [
    "#W2A7\n",
    "A = ((13**2)*3) + 5\n",
    "B = 13**2*3 + 5\n",
    "print(str(A) + \"\\n\" + str(B))"
   ]
  },
  {
   "cell_type": "code",
   "execution_count": 26,
   "id": "620fa527-4fe7-40b4-90d2-0920ccb5abeb",
   "metadata": {},
   "outputs": [
    {
     "name": "stdin",
     "output_type": "stream",
     "text": [
      "Nhap do C:  60\n"
     ]
    },
    {
     "name": "stdout",
     "output_type": "stream",
     "text": [
      "140.00\n"
     ]
    }
   ],
   "source": [
    "#W2A8\n",
    "C = int(input(\"Nhap do C: \"))\n",
    "F = 9/5*C + 32\n",
    "print(format(F, \".2f\"))"
   ]
  },
  {
   "cell_type": "code",
   "execution_count": 28,
   "id": "160cf9ab-efd8-4380-af10-780d92fb5fc4",
   "metadata": {},
   "outputs": [
    {
     "name": "stdin",
     "output_type": "stream",
     "text": [
      "Nhap tien x USD:  36\n"
     ]
    },
    {
     "name": "stdout",
     "output_type": "stream",
     "text": [
      "60.40\n"
     ]
    }
   ],
   "source": [
    "#W2A9\n",
    "x = int(input(\"Nhap tien x USD: \"))\n",
    "tong = x + 10 + x*0.3 + x*0.1\n",
    "print(format(tong, \".2f\"))"
   ]
  },
  {
   "cell_type": "code",
   "execution_count": 35,
   "id": "44ab908a-7002-49b5-ac6e-d8f0a60c45f8",
   "metadata": {},
   "outputs": [
    {
     "name": "stdin",
     "output_type": "stream",
     "text": [
      "Nhap ten 3 ng lan luot:  an dung vu\n"
     ]
    },
    {
     "name": "stdout",
     "output_type": "stream",
     "text": [
      "vu dung an\n"
     ]
    }
   ],
   "source": [
    "#W2A10\n",
    "ng = list(map(str, input(\"Nhap ten 3 ng lan luot: \").split()))\n",
    "ng.reverse()\n",
    "print(*ng)"
   ]
  },
  {
   "cell_type": "code",
   "execution_count": 38,
   "id": "db18b777-6cee-4250-a177-eb87a406bc39",
   "metadata": {},
   "outputs": [
    {
     "name": "stdin",
     "output_type": "stream",
     "text": [
      "Nhap gio, phut:  1 20\n"
     ]
    },
    {
     "name": "stdout",
     "output_type": "stream",
     "text": [
      "1 gio 20 phut\n",
      "Sang giay:  4800\n"
     ]
    }
   ],
   "source": [
    "#W2A11\n",
    "gio, phut = map(int, input(\"Nhap gio, phut: \").split())\n",
    "print(str(gio) + \" \" + \"gio\" + \" \" + str(phut) + \" \" + \"phut\")\n",
    "giay = gio*3600 + phut*60\n",
    "print(\"Sang giay: \" + \" \" + str(giay))"
   ]
  },
  {
   "cell_type": "code",
   "execution_count": 40,
   "id": "d45bd0e5-d4da-42c4-b19d-8292e1fdeb14",
   "metadata": {},
   "outputs": [
    {
     "name": "stdin",
     "output_type": "stream",
     "text": [
      "Nhap do dai canh n:  2\n"
     ]
    },
    {
     "name": "stdout",
     "output_type": "stream",
     "text": [
      "24\n"
     ]
    }
   ],
   "source": [
    "#W2A12\n",
    "n = int(input(\"Nhap do dai canh n: \"))\n",
    "dan = (n**2)*6\n",
    "print(dan)"
   ]
  },
  {
   "cell_type": "code",
   "execution_count": 42,
   "id": "8759d0f0-180b-404d-a43b-726882066006",
   "metadata": {},
   "outputs": [
    {
     "name": "stdin",
     "output_type": "stream",
     "text": [
      "Nhap a, b:  4 5\n"
     ]
    },
    {
     "name": "stdout",
     "output_type": "stream",
     "text": [
      "20\n"
     ]
    }
   ],
   "source": [
    "#W2A13\n",
    "a, b = map(int, input(\"Nhap a, b: \").split())\n",
    "tich = a*b\n",
    "print(tich)"
   ]
  },
  {
   "cell_type": "code",
   "execution_count": 43,
   "id": "95924769-ce9d-4cf3-ac80-eb948946f10e",
   "metadata": {},
   "outputs": [
    {
     "name": "stdin",
     "output_type": "stream",
     "text": [
      "Nhap a, b:  2 3\n"
     ]
    },
    {
     "name": "stdout",
     "output_type": "stream",
     "text": [
      "3 2\n"
     ]
    }
   ],
   "source": [
    "#W2A14\n",
    "a, b = map(int, input(\"Nhap a, b: \").split())\n",
    "a, b = b, a\n",
    "print(a, b)"
   ]
  },
  {
   "cell_type": "code",
   "execution_count": 45,
   "id": "48620f23-536f-4be1-926f-8130d812c74b",
   "metadata": {},
   "outputs": [
    {
     "name": "stdin",
     "output_type": "stream",
     "text": [
      "Nhap n:  4\n"
     ]
    },
    {
     "name": "stdout",
     "output_type": "stream",
     "text": [
      "37\n"
     ]
    }
   ],
   "source": [
    "#W2A15\n",
    "n = int(input(\"Nhap n: \"))\n",
    "saon = 3*n*(n - 1) + 1\n",
    "print(saon)"
   ]
  },
  {
   "cell_type": "code",
   "execution_count": 46,
   "id": "f849c366-1d54-4821-a92c-fb80ff774879",
   "metadata": {},
   "outputs": [
    {
     "name": "stdout",
     "output_type": "stream",
     "text": [
      "Spring\n",
      "Summer\n",
      "Autumn\n",
      "Winter\n"
     ]
    }
   ],
   "source": [
    "#W2A16\n",
    "print(\"Spring\\nSummer\\nAutumn\\nWinter\")"
   ]
  },
  {
   "cell_type": "code",
   "execution_count": 49,
   "id": "6a7e2f13-fcad-425f-82b4-d7f455291080",
   "metadata": {},
   "outputs": [
    {
     "name": "stdout",
     "output_type": "stream",
     "text": [
      "*\n",
      "***\n",
      "*****\n"
     ]
    }
   ],
   "source": [
    "#W2A17\n",
    "print(\"*\")\n",
    "print(\"***\")\n",
    "print(\"*****\")"
   ]
  },
  {
   "cell_type": "code",
   "execution_count": 52,
   "id": "63881ccf-6b0d-4fb9-b442-a45ed18ffb0a",
   "metadata": {},
   "outputs": [
    {
     "name": "stdout",
     "output_type": "stream",
     "text": [
      "###   # #     ###  ###\n",
      " #    #   #    #    #\n",
      " #    #    #   #    #\n",
      " #    #   #    #    #\n",
      " #    # #      #    #\n"
     ]
    }
   ],
   "source": [
    "#W2A18\n",
    "print(\"###   # #     ###  ###\")  \n",
    "print(\" #    #   #    #    #\")  \n",
    "print(\" #    #    #   #    #\")  \n",
    "print(\" #    #   #    #    #\")  \n",
    "print(\" #    # #      #    #\")  "
   ]
  },
  {
   "cell_type": "code",
   "execution_count": 57,
   "id": "43ef3fd7-72d8-46af-b3b1-f47cafecab5c",
   "metadata": {},
   "outputs": [
    {
     "name": "stdout",
     "output_type": "stream",
     "text": [
      "Monday\n",
      "Tuesday\n",
      "Wednesday\n",
      "Thursday\n",
      "Friday\n",
      "Saturday\n",
      "Sunday\n"
     ]
    }
   ],
   "source": [
    "#W2A19\n",
    "print(\"Monday\",\"Tuesday\",\"Wednesday\",\"Thursday\",\"Friday\",\"Saturday\",\"Sunday\", sep =\"\\n\")"
   ]
  },
  {
   "cell_type": "code",
   "execution_count": 58,
   "id": "cdef1c26-d64c-4f80-9925-6f3c240bed73",
   "metadata": {},
   "outputs": [
    {
     "name": "stdout",
     "output_type": "stream",
     "text": [
      "January\n",
      "February\n",
      "March\n",
      "April\n",
      "May\n",
      "June\n",
      "July\n",
      "August\n",
      "September\n",
      "October\n",
      "November\n",
      "December\n",
      "\n"
     ]
    }
   ],
   "source": [
    "#W2A20\n",
    "print(\"January\\nFebruary\\nMarch\\nApril\\nMay\\nJune\\nJuly\\nAugust\\nSeptember\\nOctober\\nNovember\\nDecember\\n\")"
   ]
  },
  {
   "cell_type": "code",
   "execution_count": 60,
   "id": "0709566c-a6d6-47f6-a35a-d996b8d96094",
   "metadata": {},
   "outputs": [
    {
     "name": "stdout",
     "output_type": "stream",
     "text": [
      "Hello, world\n",
      "Hello, world\n",
      "Hello, world\n",
      "Hello, world\n",
      "Hello, world\n",
      "Hello, world\n",
      "Hello, world\n",
      "Hello, world\n",
      "Hello, world\n",
      "Hello, world\n"
     ]
    }
   ],
   "source": [
    "#W2A21\n",
    "count = 0\n",
    "chao = \"Hello, world\"\n",
    "while count < 10:\n",
    "    print(chao)\n",
    "    count += 1"
   ]
  }
 ],
 "metadata": {
  "kernelspec": {
   "display_name": "Python 3 (ipykernel)",
   "language": "python",
   "name": "python3"
  },
  "language_info": {
   "codemirror_mode": {
    "name": "ipython",
    "version": 3
   },
   "file_extension": ".py",
   "mimetype": "text/x-python",
   "name": "python",
   "nbconvert_exporter": "python",
   "pygments_lexer": "ipython3",
   "version": "3.13.7"
  }
 },
 "nbformat": 4,
 "nbformat_minor": 5
}
