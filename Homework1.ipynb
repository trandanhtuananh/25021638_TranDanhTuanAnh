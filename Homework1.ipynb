{
 "cells": [
  {
   "cell_type": "code",
   "execution_count": 1,
   "id": "ba6b30d8-7277-411e-af7b-56c28657563b",
   "metadata": {},
   "outputs": [
    {
     "name": "stdin",
     "output_type": "stream",
     "text": [
      "Nhap so n:  4\n"
     ]
    },
    {
     "name": "stdout",
     "output_type": "stream",
     "text": [
      "8\n"
     ]
    }
   ],
   "source": [
    "#Bai_1\n",
    "n=int(input(\"Nhap so n: \"))\n",
    "print(n*2)\n"
   ]
  },
  {
   "cell_type": "code",
   "execution_count": 9,
   "id": "c5c7a89d-3555-4852-bb7f-6dcff7fae639",
   "metadata": {},
   "outputs": [
    {
     "name": "stdin",
     "output_type": "stream",
     "text": [
      "Nhap a,b:  6 7\n"
     ]
    },
    {
     "name": "stdout",
     "output_type": "stream",
     "text": [
      "32.58\n"
     ]
    }
   ],
   "source": [
    "#Bai_2\n",
    "a,b=map(int,input(\"Nhap a,b: \").split())\n",
    "kq=(a*b)-(a/2)*3.14\n",
    "print(f\"{kq:.2f}\")"
   ]
  },
  {
   "cell_type": "code",
   "execution_count": 12,
   "id": "aae9f9f5-104b-4d54-9224-bc04b8b1f1aa",
   "metadata": {},
   "outputs": [
    {
     "name": "stdin",
     "output_type": "stream",
     "text": [
      "Nhap ki tu:  a\n"
     ]
    },
    {
     "name": "stdout",
     "output_type": "stream",
     "text": [
      "A\n"
     ]
    }
   ],
   "source": [
    "#Bai_3\n",
    "c=input(\"Nhap ki tu: \")\n",
    "if c.isupper()==True:\n",
    "    c=c.lower()\n",
    "else:\n",
    "    c=c.upper()\n",
    "print(c)"
   ]
  },
  {
   "cell_type": "code",
   "execution_count": 17,
   "id": "f6e629bb-e541-4e86-9be2-4462a5a6636f",
   "metadata": {},
   "outputs": [
    {
     "name": "stdin",
     "output_type": "stream",
     "text": [
      "Nhap ki tu:  4\n"
     ]
    },
    {
     "name": "stdout",
     "output_type": "stream",
     "text": [
      "4 ko phải là kí tự alphabet\n"
     ]
    }
   ],
   "source": [
    "#Bai_4\n",
    "c=input(\"Nhap ki tu: \")\n",
    "if c.isalpha()== True:\n",
    "    print(f\"{c} là kí tự alphabet\")\n",
    "else:\n",
    "    print(f\"{c} ko phải là kí tự alphabet\")"
   ]
  },
  {
   "cell_type": "code",
   "execution_count": null,
   "id": "5ec8e8cc-4982-4116-8e9f-69b38d845b3f",
   "metadata": {},
   "outputs": [],
   "source": [
    "#Bai_5\n"
   ]
  },
  {
   "cell_type": "code",
   "execution_count": 24,
   "id": "54fd974e-b772-45d7-9f67-b1e492e331e2",
   "metadata": {},
   "outputs": [
    {
     "name": "stdin",
     "output_type": "stream",
     "text": [
      "Nhap 3 canh a,b,c:  2 3 4\n"
     ]
    },
    {
     "name": "stdout",
     "output_type": "stream",
     "text": [
      "2.9\n"
     ]
    }
   ],
   "source": [
    "#Bai_6\n",
    "a,b,c= map(int,input(\"Nhap 3 canh a,b,c: \").split())\n",
    "if a+b>c and b+c>a and c+a>b and a>0 and b>0 and c>0:\n",
    "    p=(a+b+c)/2\n",
    "    s=(p*(p-a)*(p-b)*(p-c))**(1/2)\n",
    "    print(f\"{s:.1f}\")\n",
    "else:\n",
    "    print(\"Không phải 3 cạnh của tam giác\")"
   ]
  },
  {
   "cell_type": "code",
   "execution_count": 30,
   "id": "54b5cc4b-10b4-4b8d-8b5a-e9d553997dbe",
   "metadata": {},
   "outputs": [
    {
     "name": "stdin",
     "output_type": "stream",
     "text": [
      "Nhap ngay/thang/nam: 11/12/1800\n"
     ]
    },
    {
     "name": "stdout",
     "output_type": "stream",
     "text": [
      "invalid\n"
     ]
    }
   ],
   "source": [
    "ngay,thang,nam= map(int,input(\"Nhap ngay/thang/nam:\").split(\"/\"))\n",
    "GHthang=[31,28,31,30,31,30,31,31,30,31,30,31]\n",
    "if nam>=1900 and nam <=2100:\n",
    "    if thang >=1 and thang <=12:\n",
    "        if (nam % 4==0 and nam %100 !=0) or nam % 400==0:\n",
    "            GHthang[1]=29\n",
    "        if ngay <= GHthang[thang-1]:\n",
    "            kq=\"valid\"\n",
    "        else:\n",
    "            kq=\"invalid\"\n",
    "    else:\n",
    "        kq=\"invalid\"\n",
    "else:\n",
    "    kq=\"invalid\"\n",
    "print(kq)\n"
   ]
  },
  {
   "cell_type": "code",
   "execution_count": 31,
   "id": "c0e38c99-05da-4401-b1c8-5b90301150ca",
   "metadata": {},
   "outputs": [
    {
     "name": "stdin",
     "output_type": "stream",
     "text": [
      "nhap string:  ajsdhadskgadjsahgdaksjdg\n"
     ]
    },
    {
     "name": "stdout",
     "output_type": "stream",
     "text": [
      "h k\n"
     ]
    }
   ],
   "source": [
    "#Bai_7\n",
    "s=input(\"nhap string: \")\n",
    "print(s[4],s[8])"
   ]
  },
  {
   "cell_type": "code",
   "execution_count": null,
   "id": "858ff0b4-62bc-485e-a68f-e6c13da297aa",
   "metadata": {},
   "outputs": [],
   "source": [
    "#Bai_8\n",
    "ten= input(\"Nhap ten chu ho: \")\n",
    "a= int(input(\"Chi so thang truoc: \"))\n",
    "b= int(input(\"Chi so thang nay: \"))\n"
   ]
  }
 ],
 "metadata": {
  "kernelspec": {
   "display_name": "Python 3 (ipykernel)",
   "language": "python",
   "name": "python3"
  },
  "language_info": {
   "codemirror_mode": {
    "name": "ipython",
    "version": 3
   },
   "file_extension": ".py",
   "mimetype": "text/x-python",
   "name": "python",
   "nbconvert_exporter": "python",
   "pygments_lexer": "ipython3",
   "version": "3.9.6"
  }
 },
 "nbformat": 4,
 "nbformat_minor": 5
}
