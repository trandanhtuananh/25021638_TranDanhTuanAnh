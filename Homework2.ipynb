{
 "cells": [
  {
   "cell_type": "code",
   "execution_count": 2,
   "id": "4f7316bc-6e8f-46cd-9e55-4c35f0f02ceb",
   "metadata": {},
   "outputs": [
    {
     "name": "stdin",
     "output_type": "stream",
     "text": [
      "Nhap 2 canh a, b cua hcn:  2 3\n"
     ]
    },
    {
     "name": "stdout",
     "output_type": "stream",
     "text": [
      "6 10\n"
     ]
    }
   ],
   "source": [
    "#Bai_1\n",
    "a, b = map(int, input(\"Nhap 2 canh a, b cua hcn: \").split())\n",
    "dt = a*b\n",
    "cv = 2*(a+b)\n",
    "print(str(dt) + \" \" + str(cv))"
   ]
  },
  {
   "cell_type": "code",
   "execution_count": 4,
   "id": "23453b47-3a72-47c0-9d51-c3436a016e14",
   "metadata": {},
   "outputs": [
    {
     "name": "stdin",
     "output_type": "stream",
     "text": [
      "Nhap ban kinh R:  3\n"
     ]
    },
    {
     "name": "stdout",
     "output_type": "stream",
     "text": [
      "28.274333882308138 18.84955592153876\n"
     ]
    }
   ],
   "source": [
    "#Bai_2\n",
    "import math\n",
    "R = int(input(\"Nhap ban kinh R: \"))\n",
    "dt = math.pi*(R**2)\n",
    "cv = 2*math.pi*R\n",
    "print(str(dt) + \" \" + str(cv))"
   ]
  },
  {
   "cell_type": "code",
   "execution_count": 6,
   "id": "0ff97370-1be1-451b-843b-c584a4943d39",
   "metadata": {},
   "outputs": [
    {
     "name": "stdin",
     "output_type": "stream",
     "text": [
      "Nhap 3 canh a, b, c:  3 3 4\n"
     ]
    },
    {
     "name": "stdout",
     "output_type": "stream",
     "text": [
      "Tgiac can\n",
      "4.47213595499958 10\n"
     ]
    }
   ],
   "source": [
    "#Bai_3\n",
    "import math\n",
    "a, b, c = map(int, input(\"Nhap 3 canh a, b, c: \").split())\n",
    "if a + b > c or a + c > b or b + c > a and a > 0 and b > 0 and c > 0:\n",
    "    if a == b == c:\n",
    "        print(\"Tgiac deu\")\n",
    "    elif a == b != c or a == c != b or b == c != a:\n",
    "        print(\"Tgiac can\")\n",
    "    elif a**2 + b**2 == c**2 or a**2 + c**2 == b**2 or b**2 + c**2 == a**2:\n",
    "        print(\"Tgiac vuong\")\n",
    "    else:\n",
    "        print(\"Tgiac thuong\")\n",
    "    cv = a + b + c\n",
    "    p = cv/2\n",
    "    dt = math.sqrt(p*(p-a)*(p-b)*(p-c))\n",
    "    print(str(dt) + \" \" + str(cv))\n",
    "else:\n",
    "    print(\"Ko phai la tgiac\")"
   ]
  },
  {
   "cell_type": "code",
   "execution_count": 12,
   "id": "232a26bf-7a3d-4773-a6d1-53e5913bc4bc",
   "metadata": {},
   "outputs": [
    {
     "name": "stdin",
     "output_type": "stream",
     "text": [
      "Nhap a, b:  2 3\n"
     ]
    },
    {
     "name": "stdout",
     "output_type": "stream",
     "text": [
      "-1.5\n"
     ]
    }
   ],
   "source": [
    "#Bai_4\n",
    "a, b = map(float, input(\"Nhap a, b: \").split())\n",
    "ng = 0\n",
    "if a == 0 and b != 0:\n",
    "    print(\"Vo nghiem\")\n",
    "elif a == 0 and b == 0:\n",
    "    print(\"Vo so nghiem\")\n",
    "else:\n",
    "    ng = -b/a\n",
    "    print(ng)"
   ]
  },
  {
   "cell_type": "code",
   "execution_count": 15,
   "id": "b16f516b-bf0f-4553-89f6-e42b365e7aea",
   "metadata": {},
   "outputs": [
    {
     "name": "stdin",
     "output_type": "stream",
     "text": [
      "Nhap a, b, c:  2 6 3\n"
     ]
    },
    {
     "name": "stdout",
     "output_type": "stream",
     "text": [
      "Co 2 nghiem pb\n",
      "2 nghiem la: -0.6339745962155614 -2.3660254037844384\n"
     ]
    }
   ],
   "source": [
    "#Bai_5\n",
    "import math\n",
    "a, b, c = map(float, input(\"Nhap a, b, c: \").split())\n",
    "dt = b**2 - 4*a*c\n",
    "x1 = 0\n",
    "x2 = 0\n",
    "if dt > 0:\n",
    "    print(\"Co 2 nghiem pb\")\n",
    "    x1 = (- b + math.sqrt(dt))/(2*a)\n",
    "    x2 = (- b - math.sqrt(dt))/(2*a)\n",
    "    print(\"2 nghiem la: \" + str(x1) + \" \" + str(x2))\n",
    "elif dt == 0:\n",
    "    print(\"Vo so nghiem\")\n",
    "else:\n",
    "    print(\"Vo nghiem\")"
   ]
  },
  {
   "cell_type": "code",
   "execution_count": 25,
   "id": "8d07c554-a83b-448e-8414-c3fadae453bc",
   "metadata": {},
   "outputs": [
    {
     "name": "stdin",
     "output_type": "stream",
     "text": [
      "Nhap 4 so a, b, c, d:  6 2 9 3\n"
     ]
    },
    {
     "name": "stdout",
     "output_type": "stream",
     "text": [
      "9\n"
     ]
    }
   ],
   "source": [
    "#Bai_6\n",
    "a, b, c, d = map(int, input(\"Nhap 4 so a, b, c, d: \").split())\n",
    "gtln = a\n",
    "if b >= gtln:\n",
    "    gtln = b\n",
    "if c >= gtln:\n",
    "    gtln = c\n",
    "if d >= gtln:\n",
    "    gtln = d\n",
    "print(gtln)"
   ]
  },
  {
   "cell_type": "code",
   "execution_count": 27,
   "id": "ba9ee333-f440-41f8-98ed-18224f1cab6e",
   "metadata": {},
   "outputs": [
    {
     "name": "stdin",
     "output_type": "stream",
     "text": [
      "Nhap 4 so a, b, c, d:  2 7 4 8\n"
     ]
    },
    {
     "name": "stdout",
     "output_type": "stream",
     "text": [
      "2\n"
     ]
    }
   ],
   "source": [
    "#Bai_7\n",
    "a, b, c, d = map(int, input(\"Nhap 4 so a, b, c, d: \").split())\n",
    "gtnn = a\n",
    "if b <= gtnn:\n",
    "    gtnn = b\n",
    "if c <= gtnn:\n",
    "    gtnn = c\n",
    "if d <= gtnn:\n",
    "    gtnn = d\n",
    "print(gtnn)"
   ]
  },
  {
   "cell_type": "code",
   "execution_count": 31,
   "id": "7e2ddc62-353a-4c8d-97dd-36c3a4c0b55c",
   "metadata": {},
   "outputs": [
    {
     "name": "stdin",
     "output_type": "stream",
     "text": [
      "Nhap a, b, m:  3 4 5\n",
      "Nhap c, d, n:  1 2 6\n"
     ]
    },
    {
     "name": "stdout",
     "output_type": "stream",
     "text": [
      "-7.0 6.5\n"
     ]
    }
   ],
   "source": [
    "#Bai_8\n",
    "a, b, m = map(int, input(\"Nhap a, b, m: \").split())\n",
    "c, d, n = map(int, input(\"Nhap c, d, n: \").split())\n",
    "ts= c/a\n",
    "d += -b*ts\n",
    "n += -m*ts\n",
    "y = n/d\n",
    "x = (m - b*y)/a\n",
    "print(str(x) + \" \" + str(y))"
   ]
  },
  {
   "cell_type": "code",
   "execution_count": 70,
   "id": "7909f367-b1f8-4ba3-8691-095cba1f492b",
   "metadata": {},
   "outputs": [
    {
     "name": "stdin",
     "output_type": "stream",
     "text": [
      "Nhap cviec do can x giay:  2200\n"
     ]
    },
    {
     "name": "stdout",
     "output_type": "stream",
     "text": [
      "0gio 36phut 40giay\n"
     ]
    }
   ],
   "source": [
    "#Bai_9\n",
    "x = int(input(\"Nhap cviec do can x giay: \"))\n",
    "gio = x//3600\n",
    "phut = (x%3600)//60\n",
    "giay = x%60\n",
    "print(str(gio) + \"gio\" + \" \" + str(phut) + \"phut\" + \" \" + str(giay) + \"giay\")"
   ]
  },
  {
   "cell_type": "code",
   "execution_count": 78,
   "id": "ca749cd3-390c-4f74-95e6-35a5be0d4ac9",
   "metadata": {},
   "outputs": [
    {
     "name": "stdin",
     "output_type": "stream",
     "text": [
      "Nhap lan luot 2 diem tam va ban kinh R:  2 -3 5\n",
      "Nhap diem bat ky A:  7 -3\n"
     ]
    },
    {
     "name": "stdout",
     "output_type": "stream",
     "text": [
      "Co\n"
     ]
    }
   ],
   "source": [
    "#Bai_10\n",
    "aI, bI, R = map(int, input(\"Nhap lan luot 2 diem tam va ban kinh R: \").split())\n",
    "xA, yA = map(int, input(\"Nhap diem bat ky A: \").split())\n",
    "if R > 0:\n",
    "    if (xA - aI)**2 + (yA - bI)**2 == R**2:\n",
    "        print(\"Co\")\n",
    "    else:\n",
    "        print(\"Khong\")\n",
    "else:\n",
    "    print(\"Khong ton tai duong tron\")"
   ]
  },
  {
   "cell_type": "code",
   "execution_count": 80,
   "id": "92b0203b-da49-4ab3-80d1-58855ee2c273",
   "metadata": {},
   "outputs": [
    {
     "name": "stdin",
     "output_type": "stream",
     "text": [
      "Nhap x, y:  2 5\n"
     ]
    },
    {
     "name": "stdout",
     "output_type": "stream",
     "text": [
      "32\n"
     ]
    }
   ],
   "source": [
    "#Bai_11\n",
    "x, y = map(int, input(\"Nhap x, y: \").split())\n",
    "print(x**y)"
   ]
  }
 ],
 "metadata": {
  "kernelspec": {
   "display_name": "Python 3 (ipykernel)",
   "language": "python",
   "name": "python3"
  },
  "language_info": {
   "codemirror_mode": {
    "name": "ipython",
    "version": 3
   },
   "file_extension": ".py",
   "mimetype": "text/x-python",
   "name": "python",
   "nbconvert_exporter": "python",
   "pygments_lexer": "ipython3",
   "version": "3.13.7"
  }
 },
 "nbformat": 4,
 "nbformat_minor": 5
}
