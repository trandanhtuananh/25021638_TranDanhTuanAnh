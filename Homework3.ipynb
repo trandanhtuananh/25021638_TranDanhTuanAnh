{
 "cells": [
  {
   "cell_type": "code",
   "execution_count": 1,
   "id": "9457b950-b4ed-49a0-b405-d86108047a12",
   "metadata": {},
   "outputs": [
    {
     "name": "stdout",
     "output_type": "stream",
     "text": [
      "0b11\n",
      "0b111\n",
      "7 3\n"
     ]
    }
   ],
   "source": [
    "#W3A2\n",
    "a = 3\n",
    "b = 7\n",
    "print(str(bin(a)) + \"\\n\" + str(bin(b)))\n",
    "a = a ^ b\n",
    "b = a ^ b\n",
    "a = a ^ b\n",
    "print(a, b)"
   ]
  },
  {
   "cell_type": "code",
   "execution_count": 4,
   "id": "7e3396c8-efd0-4205-97b4-c0a781df4178",
   "metadata": {},
   "outputs": [
    {
     "name": "stdin",
     "output_type": "stream",
     "text": [
      "Nhap 1 so de ktra:  8\n"
     ]
    },
    {
     "name": "stdout",
     "output_type": "stream",
     "text": [
      "La luy thua cua 2\n"
     ]
    }
   ],
   "source": [
    "#W3A3\n",
    "a = int(input(\"Nhap 1 so de ktra: \"))\n",
    "if a > 0 and (a & (a-1)) == 0:\n",
    "    print(\"La luy thua cua 2\")\n",
    "else:\n",
    "    print(\"Khong la luy thua cua 2\")"
   ]
  },
  {
   "cell_type": "code",
   "execution_count": 7,
   "id": "460c23ef-a9ff-424b-8d6f-9f7ab2b4a807",
   "metadata": {},
   "outputs": [
    {
     "name": "stdin",
     "output_type": "stream",
     "text": [
      "Nhap m, n 5 2\n"
     ]
    },
    {
     "name": "stdout",
     "output_type": "stream",
     "text": [
      "2\n"
     ]
    }
   ],
   "source": [
    "#W3A4\n",
    "import math\n",
    "m, n = map(int, input(\"Nhap m, n\").split())\n",
    "ans = m / n\n",
    "print(math.floor(ans))"
   ]
  },
  {
   "cell_type": "code",
   "execution_count": 8,
   "id": "bef690a1-c3cf-446f-a627-13d289a3f5a0",
   "metadata": {},
   "outputs": [
    {
     "name": "stdin",
     "output_type": "stream",
     "text": [
      "Nhap m, n 5 2\n"
     ]
    },
    {
     "name": "stdout",
     "output_type": "stream",
     "text": [
      "3\n"
     ]
    }
   ],
   "source": [
    "#W3A5\n",
    "import math\n",
    "m, n = map(int, input(\"Nhap m, n\").split())\n",
    "ans = m / n\n",
    "print(math.ceil(ans))"
   ]
  },
  {
   "cell_type": "code",
   "execution_count": 10,
   "id": "03bf3be3-93a1-4a02-972a-f42a0af135bb",
   "metadata": {},
   "outputs": [
    {
     "name": "stdin",
     "output_type": "stream",
     "text": [
      "Nhap 1 so:  6\n"
     ]
    },
    {
     "name": "stdout",
     "output_type": "stream",
     "text": [
      "Even\n"
     ]
    }
   ],
   "source": [
    "#W3A6\n",
    "X = int(input(\"Nhap 1 so: \"))\n",
    "if X % 2 == 0:\n",
    "    print(\"Even\")\n",
    "else:\n",
    "    print(\"Odd\")"
   ]
  },
  {
   "cell_type": "code",
   "execution_count": 18,
   "id": "4ed582ae-55d7-45f9-8501-a46b7d69245e",
   "metadata": {},
   "outputs": [
    {
     "name": "stdin",
     "output_type": "stream",
     "text": [
      "Nhap 2 so a, b:  -4 -9\n"
     ]
    },
    {
     "name": "stdout",
     "output_type": "stream",
     "text": [
      "Yes\n"
     ]
    }
   ],
   "source": [
    "#W3A7\n",
    "a, b = map(int, input(\"Nhap 2 so a, b: \").split())\n",
    "if a < 0 and b < 0:\n",
    "    print(\"Yes\")\n",
    "else:\n",
    "    print(\"No\")"
   ]
  },
  {
   "cell_type": "code",
   "execution_count": 20,
   "id": "e2fc65f8-2c34-41d0-bb8f-83ad0cfe654c",
   "metadata": {},
   "outputs": [
    {
     "name": "stdin",
     "output_type": "stream",
     "text": [
      "Nhap 2 chuoi a, b:  Hello Papa\n"
     ]
    },
    {
     "name": "stdout",
     "output_type": "stream",
     "text": [
      "True\n"
     ]
    }
   ],
   "source": [
    "#W3A8\n",
    "a, b = map(str, input(\"Nhap 2 chuoi a, b: \").split())\n",
    "if len(a) > len(b):\n",
    "    print(\"True\")\n",
    "else:\n",
    "    print(\"False\")"
   ]
  },
  {
   "cell_type": "code",
   "execution_count": 21,
   "id": "89f688fe-ae8c-4fe8-8493-a421b87bfe5a",
   "metadata": {},
   "outputs": [
    {
     "name": "stdin",
     "output_type": "stream",
     "text": [
      "Nhap 3 canh a, b, c:  3 3 3\n"
     ]
    },
    {
     "name": "stdout",
     "output_type": "stream",
     "text": [
      "Yes\n"
     ]
    }
   ],
   "source": [
    "#W3A9\n",
    "a, b, c = map(int, input(\"Nhap 3 canh a, b, c: \").split())\n",
    "if a + b < c or a + c < b or b + c < a or a < 0 or b < 0 or c < 0:\n",
    "    print(\"No\")\n",
    "else:\n",
    "    print(\"Yes\")"
   ]
  },
  {
   "cell_type": "code",
   "execution_count": 23,
   "id": "fa4acdec-0811-41c3-9278-b4b43ac4d139",
   "metadata": {},
   "outputs": [
    {
     "name": "stdin",
     "output_type": "stream",
     "text": [
      "Nhap 4 so nguyen a, b, c, d:  3 8 10 5\n"
     ]
    },
    {
     "name": "stdout",
     "output_type": "stream",
     "text": [
      "10\n"
     ]
    }
   ],
   "source": [
    "#W3A10\n",
    "a, b, c, d = map(int, input(\"Nhap 4 so nguyen a, b, c, d: \").split())\n",
    "sln = max(a, b, c, d)\n",
    "print(sln)"
   ]
  },
  {
   "cell_type": "code",
   "execution_count": 24,
   "id": "7a8ab93e-da0f-4133-908f-8ccbe02dac91",
   "metadata": {},
   "outputs": [
    {
     "name": "stdin",
     "output_type": "stream",
     "text": [
      "Nhap 3 canh a, b, c:  3 3 2\n"
     ]
    },
    {
     "name": "stdout",
     "output_type": "stream",
     "text": [
      "Tam giac can\n"
     ]
    }
   ],
   "source": [
    "#W3A11\n",
    "a, b, c = map(int, input(\"Nhap 3 canh a, b, c: \").split())\n",
    "if a + b > c or a + c > b or b + c > a and (a > 0 and b > 0 and c > 0):\n",
    "    if a == b == c:\n",
    "        print(\"Tam giac deu\")\n",
    "    elif a == b != c or a == c != b or b == c != a:\n",
    "        print(\"Tam giac can\")\n",
    "    else:\n",
    "        print(\"Tam giac thuong\")\n",
    "else:\n",
    "    print(\"Khong phai la tam giac\")\n",
    "        "
   ]
  },
  {
   "cell_type": "code",
   "execution_count": 32,
   "id": "5c6e92e9-fbc1-4a1b-81f4-ebe951908b7a",
   "metadata": {},
   "outputs": [
    {
     "name": "stdin",
     "output_type": "stream",
     "text": [
      "Dien nam n:  2000\n"
     ]
    },
    {
     "name": "stdout",
     "output_type": "stream",
     "text": [
      "La nam nhuan\n"
     ]
    }
   ],
   "source": [
    "#W3A12\n",
    "n = int(input(\"Dien nam n: \"))\n",
    "if (n % 4 ==0 and n % 100 != 0) or n % 400 == 0:\n",
    "    print(\"La nam nhuan\")\n",
    "else:\n",
    "    print(\"Khong la nam nhuan\")"
   ]
  },
  {
   "cell_type": "code",
   "execution_count": 41,
   "id": "4e492b08-f2bd-4f81-a04b-9cebd0bf58a4",
   "metadata": {},
   "outputs": [
    {
     "name": "stdin",
     "output_type": "stream",
     "text": [
      "Nhap 2 so thuc a, b cua pt:  9 1\n"
     ]
    },
    {
     "name": "stdout",
     "output_type": "stream",
     "text": [
      "-0.11\n"
     ]
    }
   ],
   "source": [
    "#W3A14\n",
    "a, b = map(float, input(\"Nhap 2 so thuc a, b cua pt: \").split())\n",
    "if a == 0 and b != 0:\n",
    "    print(\"vo nghiem\")\n",
    "elif a == 0 and b == 0:\n",
    "    print(\"Vo so nghiem\")\n",
    "else:\n",
    "    nghiem = -b/a\n",
    "    print(format(nghiem, \".2f\"))"
   ]
  },
  {
   "cell_type": "code",
   "execution_count": 48,
   "id": "87105cb4-57eb-42f0-86e6-0e2a36138770",
   "metadata": {},
   "outputs": [
    {
     "name": "stdin",
     "output_type": "stream",
     "text": [
      "Nhap diem cua 1 hs:  7.9\n"
     ]
    },
    {
     "name": "stdout",
     "output_type": "stream",
     "text": [
      "Kha\n"
     ]
    }
   ],
   "source": [
    "#W3A15\n",
    "diem = float(input(\"Nhap diem cua 1 hs: \"))\n",
    "hocluc = \"\"\n",
    "if diem >= 5.0:\n",
    "    hocluc = \"Trung binh\"\n",
    "    if diem >= 6.5:\n",
    "        hocluc = \"Kha\"\n",
    "        if diem >= 8.0:\n",
    "            hocluc = \"Gioi\"\n",
    "else:\n",
    "    hocluc = \"Yeu\"\n",
    "print(hocluc)"
   ]
  },
  {
   "cell_type": "code",
   "execution_count": 55,
   "id": "25b3d012-cab8-4939-aa60-29c4422a3ae1",
   "metadata": {},
   "outputs": [
    {
     "name": "stdin",
     "output_type": "stream",
     "text": [
      "Nhap 1 so thuc a:  3.5\n"
     ]
    },
    {
     "name": "stdout",
     "output_type": "stream",
     "text": [
      "3.0\n",
      "4.0\n",
      "4.0\n"
     ]
    }
   ],
   "source": [
    "#W3A16\n",
    "a = float(input(\"Nhap 1 so thuc a: \"))\n",
    "#Lam tron xuong\n",
    "print(a // 1)\n",
    "#Lam tron len\n",
    "print(-(-a // 1))\n",
    "#Voi a < 0 thi nguoc lai\n",
    "#Lam tron ve so gan nhat\n",
    "if a - int(a) < 0.5:\n",
    "    print(a // 1)\n",
    "else:\n",
    "    print(-(-a // 1))\n",
    "#a < 0 thi nguoc lai"
   ]
  },
  {
   "cell_type": "code",
   "execution_count": 61,
   "id": "a916701f-fe17-4136-a25b-8684c544f090",
   "metadata": {},
   "outputs": [
    {
     "name": "stdin",
     "output_type": "stream",
     "text": [
      "Nhap 4 so a, b, c, d:  0.0625 0.125 0.25 0.5\n"
     ]
    },
    {
     "name": "stdout",
     "output_type": "stream",
     "text": [
      "Co\n"
     ]
    }
   ],
   "source": [
    "#W3A17\n",
    "a, b, c, d = map(float, input(\"Nhap 4 so a, b, c, d: \").split())\n",
    "q = 0\n",
    "if b % a == 0:\n",
    "    q = b / a\n",
    "if c / b == q and d / c == q:\n",
    "    print(\"Co\")\n",
    "else:\n",
    "    print(\"Khong\")"
   ]
  }
 ],
 "metadata": {
  "kernelspec": {
   "display_name": "Python 3 (ipykernel)",
   "language": "python",
   "name": "python3"
  },
  "language_info": {
   "codemirror_mode": {
    "name": "ipython",
    "version": 3
   },
   "file_extension": ".py",
   "mimetype": "text/x-python",
   "name": "python",
   "nbconvert_exporter": "python",
   "pygments_lexer": "ipython3",
   "version": "3.13.7"
  }
 },
 "nbformat": 4,
 "nbformat_minor": 5
}
